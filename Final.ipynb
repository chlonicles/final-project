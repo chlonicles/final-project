{
 "cells": [
  {
   "cell_type": "markdown",
   "id": "1f0ec007-2d48-4430-994b-ed5e5bf0e482",
   "metadata": {},
   "source": [
    "# Healthy Plate Builder\n",
    "\n",
    "Our BILD 62 final project aims to promote healthier, yet tasty, eating habits. The USA has many unhealthy food options and has oversaturated our daily meals with fast and overprocessed foods. Those options are not nutritional and beneficial for a balanced diet, so using our program would help guide people in a better direction regarding choosing what to eat. It creates interactive solutions to promote a better and mindful diet.\n",
    "\n",
    "## About this project\n",
    "By utilizing data from the USDA food database we would like to offer an interactive plate builder where users can build their plate with a selection of foods that are nutritious (fruits, veggies, protein, dairy, carbohydrates). Once a user has finished building their plate we hope to provide a nutrional analysis of the plate with details on balanced the meal is and suggestions for meal improvements."
   ]
  },
  {
   "cell_type": "code",
   "execution_count": null,
   "id": "7cd2ca92-02bf-44af-b5a6-4063d509fa1b",
   "metadata": {},
   "outputs": [],
   "source": [
    "# this is where we will have our final project "
   ]
  },
  {
   "cell_type": "markdown",
   "id": "b856e959-5647-4685-b7c6-39b9c25b314e",
   "metadata": {},
   "source": [
    "### Part 1: Importing Data\n",
    "\n",
    "This part of our project we aim to complete a couple of things: 1.Succesfully import the data we'd like to use , 2. Clean our data, 3. Have our data ready for use in the following parts.\n",
    "\n",
    "The data we are using comes from the FoodData Central of the USDA. Definitions for the terms and labels used in our chosen dataset is [here](Bild62/Data/Field_Descriptions.pdf)\n"
   ]
  },
  {
   "cell_type": "code",
   "execution_count": 10,
   "id": "7f65fe27-9d9c-4b82-9afe-c264eb87cb4e",
   "metadata": {},
   "outputs": [
    {
     "name": "stderr",
     "output_type": "stream",
     "text": [
      "/var/folders/yv/b13k2r3j49v3bf8rl0672t040000gn/T/ipykernel_8406/440970165.py:20: DtypeWarning: Columns (9) have mixed types. Specify dtype option on import or set low_memory=False.\n",
      "  food_nutrient = pd.read_csv(\"Data/foundationfoodcsv/food_nutrient.csv\")\n"
     ]
    },
    {
     "data": {
      "text/html": [
       "<div>\n",
       "<style scoped>\n",
       "    .dataframe tbody tr th:only-of-type {\n",
       "        vertical-align: middle;\n",
       "    }\n",
       "\n",
       "    .dataframe tbody tr th {\n",
       "        vertical-align: top;\n",
       "    }\n",
       "\n",
       "    .dataframe thead th {\n",
       "        text-align: right;\n",
       "    }\n",
       "</style>\n",
       "<table border=\"1\" class=\"dataframe\">\n",
       "  <thead>\n",
       "    <tr style=\"text-align: right;\">\n",
       "      <th>name</th>\n",
       "      <th>fdc_id</th>\n",
       "      <th>food_description</th>\n",
       "      <th>code</th>\n",
       "      <th>description_y</th>\n",
       "      <th>Carbohydrates (g)</th>\n",
       "      <th>Calories</th>\n",
       "      <th>Protein (g)</th>\n",
       "      <th>Fat (g)</th>\n",
       "    </tr>\n",
       "  </thead>\n",
       "  <tbody>\n",
       "    <tr>\n",
       "      <th>0</th>\n",
       "      <td>319877</td>\n",
       "      <td>Hummus</td>\n",
       "      <td>1600.0</td>\n",
       "      <td>Legumes and Legume Products</td>\n",
       "      <td>NaN</td>\n",
       "      <td>NaN</td>\n",
       "      <td>NaN</td>\n",
       "      <td>19.00</td>\n",
       "    </tr>\n",
       "    <tr>\n",
       "      <th>1</th>\n",
       "      <td>319882</td>\n",
       "      <td>Hummus</td>\n",
       "      <td>1600.0</td>\n",
       "      <td>Legumes and Legume Products</td>\n",
       "      <td>NaN</td>\n",
       "      <td>NaN</td>\n",
       "      <td>NaN</td>\n",
       "      <td>18.70</td>\n",
       "    </tr>\n",
       "    <tr>\n",
       "      <th>2</th>\n",
       "      <td>319892</td>\n",
       "      <td>Hummus</td>\n",
       "      <td>1600.0</td>\n",
       "      <td>Legumes and Legume Products</td>\n",
       "      <td>NaN</td>\n",
       "      <td>NaN</td>\n",
       "      <td>NaN</td>\n",
       "      <td>16.60</td>\n",
       "    </tr>\n",
       "    <tr>\n",
       "      <th>3</th>\n",
       "      <td>319899</td>\n",
       "      <td>Hummus</td>\n",
       "      <td>1600.0</td>\n",
       "      <td>Legumes and Legume Products</td>\n",
       "      <td>NaN</td>\n",
       "      <td>NaN</td>\n",
       "      <td>NaN</td>\n",
       "      <td>19.10</td>\n",
       "    </tr>\n",
       "    <tr>\n",
       "      <th>4</th>\n",
       "      <td>319908</td>\n",
       "      <td>Hummus</td>\n",
       "      <td>1600.0</td>\n",
       "      <td>Legumes and Legume Products</td>\n",
       "      <td>NaN</td>\n",
       "      <td>NaN</td>\n",
       "      <td>NaN</td>\n",
       "      <td>18.20</td>\n",
       "    </tr>\n",
       "    <tr>\n",
       "      <th>...</th>\n",
       "      <td>...</td>\n",
       "      <td>...</td>\n",
       "      <td>...</td>\n",
       "      <td>...</td>\n",
       "      <td>...</td>\n",
       "      <td>...</td>\n",
       "      <td>...</td>\n",
       "      <td>...</td>\n",
       "    </tr>\n",
       "    <tr>\n",
       "      <th>4506</th>\n",
       "      <td>2714569</td>\n",
       "      <td>Plum, black, with skin, pitted, raw</td>\n",
       "      <td>900.0</td>\n",
       "      <td>Fruits and Fruit Juices</td>\n",
       "      <td>NaN</td>\n",
       "      <td>NaN</td>\n",
       "      <td>NaN</td>\n",
       "      <td>0.14</td>\n",
       "    </tr>\n",
       "    <tr>\n",
       "      <th>4507</th>\n",
       "      <td>2714586</td>\n",
       "      <td>Plum, black, with skin, pitted, raw</td>\n",
       "      <td>900.0</td>\n",
       "      <td>Fruits and Fruit Juices</td>\n",
       "      <td>NaN</td>\n",
       "      <td>NaN</td>\n",
       "      <td>NaN</td>\n",
       "      <td>0.26</td>\n",
       "    </tr>\n",
       "    <tr>\n",
       "      <th>4508</th>\n",
       "      <td>2714607</td>\n",
       "      <td>Plum, black, with skin, pitted, raw</td>\n",
       "      <td>900.0</td>\n",
       "      <td>Fruits and Fruit Juices</td>\n",
       "      <td>NaN</td>\n",
       "      <td>NaN</td>\n",
       "      <td>NaN</td>\n",
       "      <td>0.41</td>\n",
       "    </tr>\n",
       "    <tr>\n",
       "      <th>4509</th>\n",
       "      <td>2714625</td>\n",
       "      <td>Plum, black, with skin, pitted, raw</td>\n",
       "      <td>900.0</td>\n",
       "      <td>Fruits and Fruit Juices</td>\n",
       "      <td>NaN</td>\n",
       "      <td>NaN</td>\n",
       "      <td>NaN</td>\n",
       "      <td>0.27</td>\n",
       "    </tr>\n",
       "    <tr>\n",
       "      <th>4510</th>\n",
       "      <td>2714641</td>\n",
       "      <td>Arugula, baby, raw</td>\n",
       "      <td>1100.0</td>\n",
       "      <td>Vegetables and Vegetable Products</td>\n",
       "      <td>NaN</td>\n",
       "      <td>NaN</td>\n",
       "      <td>NaN</td>\n",
       "      <td>0.50</td>\n",
       "    </tr>\n",
       "  </tbody>\n",
       "</table>\n",
       "<p>4511 rows × 8 columns</p>\n",
       "</div>"
      ],
      "text/plain": [
       "name   fdc_id                     food_description    code  \\\n",
       "0      319877                               Hummus  1600.0   \n",
       "1      319882                               Hummus  1600.0   \n",
       "2      319892                               Hummus  1600.0   \n",
       "3      319899                               Hummus  1600.0   \n",
       "4      319908                               Hummus  1600.0   \n",
       "...       ...                                  ...     ...   \n",
       "4506  2714569  Plum, black, with skin, pitted, raw   900.0   \n",
       "4507  2714586  Plum, black, with skin, pitted, raw   900.0   \n",
       "4508  2714607  Plum, black, with skin, pitted, raw   900.0   \n",
       "4509  2714625  Plum, black, with skin, pitted, raw   900.0   \n",
       "4510  2714641                   Arugula, baby, raw  1100.0   \n",
       "\n",
       "name                      description_y  Carbohydrates (g)  Calories  \\\n",
       "0           Legumes and Legume Products                NaN       NaN   \n",
       "1           Legumes and Legume Products                NaN       NaN   \n",
       "2           Legumes and Legume Products                NaN       NaN   \n",
       "3           Legumes and Legume Products                NaN       NaN   \n",
       "4           Legumes and Legume Products                NaN       NaN   \n",
       "...                                 ...                ...       ...   \n",
       "4506            Fruits and Fruit Juices                NaN       NaN   \n",
       "4507            Fruits and Fruit Juices                NaN       NaN   \n",
       "4508            Fruits and Fruit Juices                NaN       NaN   \n",
       "4509            Fruits and Fruit Juices                NaN       NaN   \n",
       "4510  Vegetables and Vegetable Products                NaN       NaN   \n",
       "\n",
       "name  Protein (g)  Fat (g)  \n",
       "0             NaN    19.00  \n",
       "1             NaN    18.70  \n",
       "2             NaN    16.60  \n",
       "3             NaN    19.10  \n",
       "4             NaN    18.20  \n",
       "...           ...      ...  \n",
       "4506          NaN     0.14  \n",
       "4507          NaN     0.26  \n",
       "4508          NaN     0.41  \n",
       "4509          NaN     0.27  \n",
       "4510          NaN     0.50  \n",
       "\n",
       "[4511 rows x 8 columns]"
      ]
     },
     "metadata": {},
     "output_type": "display_data"
    }
   ],
   "source": [
    "import numpy as np\n",
    "import matplotlib.pyplot as plt\n",
    "import pandas as pd\n",
    "import matplotlib.animation as animation\n",
    "import json\n",
    "import os\n",
    "import sys\n",
    "\n",
    "# I was going to download all the food data information offered on the \n",
    "# website but instead will just start with one until everything works\n",
    "\n",
    "#foundation_food = pd.read_json(\"Data/foundationfoods.json\")\n",
    "\n",
    "#ffnormalized = pd.json_normalize(foundation_food['FoundationFoods'])\n",
    "\n",
    "#ffnormalized.head() #there are dictionaries within the columns so need to figure out a way to extract those\n",
    "\n",
    "\n",
    "food = pd.read_csv(\"Data/foundationfoodcsv/food.csv\")\n",
    "food_nutrient = pd.read_csv(\"Data/foundationfoodcsv/food_nutrient.csv\")\n",
    "nutrient = pd.read_csv(\"Data/foundationfoodcsv/nutrient.csv\")\n",
    "food_category = pd.read_csv(\"Data/foundationfoodcsv/food_category.csv\")\n",
    "\n",
    "\n",
    "food = food.merge(food_category, left_on=\"food_category_id\", right_on=\"id\", how=\"left\")\n",
    "\n",
    "\n",
    "food_nutrient = food_nutrient.merge(nutrient, left_on=\"nutrient_id\", right_on=\"id\", how=\"left\")\n",
    "\n",
    "\n",
    "combined = food.merge(food_nutrient, left_on=\"fdc_id\", right_on=\"fdc_id\", how=\"left\")\n",
    "\n",
    "\n",
    "nutrient_focus = combined[combined[\"name\"].isin([\"Energy\", \"Protein\", \"Carbohydrate, by difference\", \"Total lipid (fat)\"])]\n",
    "\n",
    "# Pivot nutrients into columns\n",
    "foodfoundation = nutrient_focus.pivot_table(\n",
    "    index=[\"fdc_id\", \"description_x\", \"code\", \"description_y\"],  \n",
    "    columns=\"name\",  \n",
    "    values=\"amount\",  \n",
    "    aggfunc=\"first\"  \n",
    ").reset_index()\n",
    "\n",
    "\n",
    "foodfoundation.rename(columns={\n",
    "    \"description_x\": \"food_description\",\n",
    "    \"Energy\": \"Calories\",\n",
    "    \"Protein\": \"Protein (g)\",\n",
    "    \"Carbohydrate, by difference\": \"Carbohydrates (g)\",\n",
    "    \"Total lipid (fat)\": \"Fat (g)\"\n",
    "}, inplace=True)\n",
    "\n",
    "\n",
    "display(foodfoundation)\n",
    "\n",
    "\n"
   ]
  },
  {
   "cell_type": "code",
   "execution_count": 6,
   "id": "d37a39c3-370e-49c0-a3d1-c67f8c8a64da",
   "metadata": {},
   "outputs": [
    {
     "name": "stdout",
     "output_type": "stream",
     "text": [
      "Index(['fdc_id', 'data_type', 'description_x', 'food_category_id',\n",
      "       'publication_date', 'id', 'code', 'description_y'],\n",
      "      dtype='object')\n"
     ]
    }
   ],
   "source": [
    "print(food.columns)\n"
   ]
  },
  {
   "cell_type": "markdown",
   "id": "185563db-121a-48a0-ae53-f72422d0564c",
   "metadata": {},
   "source": [
    "### Part 2: Design our Interactive Aspects\n",
    "\n",
    "This part of our project we aim to sort out how we would like for user input to work"
   ]
  },
  {
   "cell_type": "code",
   "execution_count": 14,
   "id": "ae1d72f1-765a-4077-83d3-2c7a590b1d33",
   "metadata": {},
   "outputs": [
    {
     "name": "stdout",
     "output_type": "stream",
     "text": [
      "Welcome to our Healthy Plate Builder \n",
      "\n",
      "Please add foods to your plate one at a time \n",
      "\n",
      "Type 'stop' when you're done adding foods to your plate.\n",
      "\n"
     ]
    },
    {
     "name": "stdin",
     "output_type": "stream",
     "text": [
      "Enter a food to add to your plate:  bacon\n"
     ]
    },
    {
     "name": "stdout",
     "output_type": "stream",
     "text": [
      "Added bacon to your plate.\n"
     ]
    },
    {
     "name": "stdin",
     "output_type": "stream",
     "text": [
      "Enter a food to add to your plate:  beef\n"
     ]
    },
    {
     "name": "stdout",
     "output_type": "stream",
     "text": [
      "Added beef to your plate.\n"
     ]
    },
    {
     "name": "stdin",
     "output_type": "stream",
     "text": [
      "Enter a food to add to your plate:  cheese\n"
     ]
    },
    {
     "name": "stdout",
     "output_type": "stream",
     "text": [
      "Added cheese to your plate.\n"
     ]
    },
    {
     "name": "stdin",
     "output_type": "stream",
     "text": [
      "Enter a food to add to your plate:  stop\n"
     ]
    },
    {
     "name": "stdout",
     "output_type": "stream",
     "text": [
      "Your plate is complete!\n",
      "\n",
      "Here is what's on your plate:\n",
      "- bacon\n",
      "- beef\n",
      "- cheese\n"
     ]
    },
    {
     "name": "stdin",
     "output_type": "stream",
     "text": [
      "\n",
      "Do you want to save your plate? (yes/no):  yes\n",
      "Enter a username:  testuser1\n",
      "Enter a password:  testuser1\n"
     ]
    },
    {
     "name": "stdout",
     "output_type": "stream",
     "text": [
      "Plate saved for user 'testuser1'!\n"
     ]
    },
    {
     "name": "stdin",
     "output_type": "stream",
     "text": [
      "\n",
      "Do you want to view saved plates? (yes/no):  no\n"
     ]
    },
    {
     "name": "stdout",
     "output_type": "stream",
     "text": [
      "Thank you for using the plate builder!\n"
     ]
    }
   ],
   "source": [
    "#I know on the google doc it says users will be able to create a plate from a selection\n",
    "# but it may be easier to just let people input foods so thats what I'll add for now\n",
    "# we can move scripts to another file later\n",
    "\n",
    "\n",
    "#This is establishing a place for users to be able to save their plates.\n",
    "data_folder = \"Data\"\n",
    "user_data_file = os.path.join(data_folder, \"user_plates.json\")\n",
    "\n",
    "if not os.path.exists(data_folder):\n",
    "    os.makedirs(data_folder)\n",
    "\n",
    "if not os.path.exists(user_data_file):\n",
    "    with open(user_data_file, 'w') as file:\n",
    "        json.dump({}, file)\n",
    "\n",
    "#This function can be used for those who want to save their plates. This was feedback we got on the propsal.\n",
    "\n",
    "def save_plate(username, password, plate, file_path):\n",
    "    with open(file_path, 'r') as file:\n",
    "        user_data = json.load(file)\n",
    "    user_data[username] = {\"password\": password, \"plate\": plate}\n",
    "    with open(file_path, 'w') as file:\n",
    "        json.dump(user_data, file, indent=4)\n",
    "    print(f\"Plate saved for user '{username}'!\")\n",
    "\n",
    "\n",
    "#This will be fine for now but need to add options to a.build a plate b.revisit a plate c.other\n",
    "\n",
    "plate = []\n",
    "print(\"Welcome to our Healthy Plate Builder \\n\")\n",
    "\n",
    "print(\"Please add foods to your plate one at a time \\n\")\n",
    "\n",
    "print(\"Type 'stop' when you're done adding foods to your plate.\\n\")\n",
    "\n",
    "while True:\n",
    "    food = input(\"Enter a food to add to your plate: \").strip()\n",
    "    if food.lower() == \"stop\":\n",
    "        print(\"Your plate is complete!\")\n",
    "        break\n",
    "    elif food:\n",
    "        plate.append(food)\n",
    "        print(f\"Added {food} to your plate.\")\n",
    "    else:\n",
    "        print(\"You didn't enter any food. Try again.\")\n",
    "\n",
    "print(\"\\nHere is what's on your plate:\")\n",
    "for item in plate:\n",
    "    print(f\"- {item}\")\n",
    "\n",
    "save_option = input(\"\\nDo you want to save your plate? (yes/no): \").strip().lower()\n",
    "\n",
    "if save_option == \"yes\":\n",
    "    username = input(\"Enter a username: \").strip()\n",
    "    password = input(\"Enter a password: \").strip()\n",
    "    save_plate(username, password, plate, user_data_file)\n",
    "elif save_option == \"no\":\n",
    "    print(\"You chose not to save your plate.\")\n",
    "else:\n",
    "    print(\"Invalid input. Plate was not saved.\")\n",
    "\n",
    "view_option = input(\"\\nDo you want to view saved plates? (yes/no): \").strip().lower()\n",
    "if view_option == \"yes\":\n",
    "    with open(user_data_file, 'r') as file:\n",
    "        saved_data = json.load(file)\n",
    "        print(\"\\nSaved Plates:\")\n",
    "        for user, data in saved_data.items():\n",
    "            print(f\"User: {user}, Plate: {data['plate']}\")\n",
    "else:\n",
    "    print(\"Thank you for using the plate builder!\")\n",
    "\n",
    "\n",
    "\n",
    "        "
   ]
  },
  {
   "cell_type": "code",
   "execution_count": 15,
   "id": "a3d87737-0a8f-45a0-a416-f578091b4781",
   "metadata": {},
   "outputs": [
    {
     "name": "stdin",
     "output_type": "stream",
     "text": [
      "Would you like to retrieve your previously created plate? (yes/no):\n",
      " yes\n",
      "Enter your username:  testuser1\n",
      "Enter your password:  testuser1\n"
     ]
    },
    {
     "name": "stdout",
     "output_type": "stream",
     "text": [
      "\n",
      "Here is your saved plate, testuser1:\n",
      "- bacon\n",
      "- beef\n",
      "- cheese\n"
     ]
    }
   ],
   "source": [
    "#Going to test retrieving saved plates in this cell\n",
    "\n",
    "def retrieve_plate(username, password, file_path):\n",
    "    with open(file_path, 'r') as file:\n",
    "        user_data = json.load(file)\n",
    "    if username in user_data:\n",
    "        if user_data[username][\"password\"] == password:\n",
    "            return user_data[username][\"plate\"]\n",
    "        else:\n",
    "            return \"Incorrect password.\"\n",
    "    else:\n",
    "        return \"Username not found.\"\n",
    "\n",
    "retrieve_option = input(\"Would you like to retrieve your previously created plate? (yes/no):\\n\").strip().lower()\n",
    "\n",
    "if retrieve_option == \"yes\":\n",
    "    username = input(\"Enter your username: \").strip()\n",
    "    password = input(\"Enter your password: \").strip()\n",
    "    result = retrieve_plate(username, password, user_data_file)\n",
    "    if isinstance(result, list):\n",
    "        print(f\"\\nHere is your saved plate, {username}:\")\n",
    "        for item in result:\n",
    "            print(f\"- {item}\")\n",
    "    else:\n",
    "        print(f\"\\n{result}\")\n",
    "else:\n",
    "    print(\"You said no to retrieving your plate.\")"
   ]
  },
  {
   "cell_type": "markdown",
   "id": "81f80be1-01bd-43bb-8ac1-0e2d06af53e5",
   "metadata": {},
   "source": [
    "### Part 3: Nutritional Analysis\n",
    "\n",
    "This part of our project we aim to do the necessary work that will allow for user input to be translated into nutritional details."
   ]
  },
  {
   "cell_type": "markdown",
   "id": "90da9bf1-0ef2-45b9-98c7-bfc841708bf9",
   "metadata": {},
   "source": [
    "### Part 4: Visualization\n",
    "\n",
    "This part of our project we aim to neatly display the results of Parts 1 and 2 to our users. "
   ]
  },
  {
   "cell_type": "markdown",
   "id": "0404498b-e3c6-4e8a-8f3b-0b743cf6db6f",
   "metadata": {},
   "source": [
    "### Part 5: Healthy Plate Builder in Action\n",
    "\n",
    "This part of our project is where we'd like for our users to be able to use our interactive plate builder . "
   ]
  }
 ],
 "metadata": {
  "kernelspec": {
   "display_name": "Python 3 (ipykernel)",
   "language": "python",
   "name": "python3"
  },
  "language_info": {
   "codemirror_mode": {
    "name": "ipython",
    "version": 3
   },
   "file_extension": ".py",
   "mimetype": "text/x-python",
   "name": "python",
   "nbconvert_exporter": "python",
   "pygments_lexer": "ipython3",
   "version": "3.12.8"
  }
 },
 "nbformat": 4,
 "nbformat_minor": 5
}
