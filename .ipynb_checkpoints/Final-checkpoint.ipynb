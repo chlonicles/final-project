{
 "cells": [
  {
   "cell_type": "markdown",
   "id": "1f0ec007-2d48-4430-994b-ed5e5bf0e482",
   "metadata": {},
   "source": [
    "# Healthy Plate Builder\n",
    "\n",
    "Our BILD 62 final project aims to promote healthier, yet tasty, eating habits. The USA has many unhealthy food options and has oversaturated our daily meals with fast and overprocessed foods. Those options are not nutritional and beneficial for a balanced diet, so using our program would help guide people in a better direction regarding choosing what to eat. It creates interactive solutions to promote a better and mindful diet.\n",
    "\n",
    "## About this project\n",
    "By utilizing data from the USDA food database we would like to offer an interactive plate builder where users can build their plate with a selection of foods that are nutritious (fruits, veggies, protein, dairy, carbohydrates). Once a user has finished building their plate we hope to provide a nutrional analysis of the plate with details on balanced the meal is and suggestions for meal improvements."
   ]
  },
  {
   "cell_type": "code",
   "execution_count": null,
   "id": "7cd2ca92-02bf-44af-b5a6-4063d509fa1b",
   "metadata": {},
   "outputs": [],
   "source": [
    "# this is where we will have our final project "
   ]
  },
  {
   "cell_type": "markdown",
   "id": "b856e959-5647-4685-b7c6-39b9c25b314e",
   "metadata": {},
   "source": [
    "### Part 1: Importing Data\n",
    "\n",
    "This part of our project we aim to complete a couple of things: 1.Succesfully import the data we'd like to use , 2. Clean our data, 3. Have our data ready for use in the following parts.\n",
    "\n",
    "The data we are using comes from the FoodData Central of the USDA. Definitions for the terms and labels used in our chosen dataset is [here](Bild62/Data/Field_Descriptions.pdf)\n"
   ]
  },
  {
   "cell_type": "code",
   "execution_count": 29,
   "id": "7f65fe27-9d9c-4b82-9afe-c264eb87cb4e",
   "metadata": {},
   "outputs": [
    {
     "data": {
      "text/plain": [
       "0      [{'type': '.CalorieConversionFactor', 'protein...\n",
       "0      [{'type': '.CalorieConversionFactor', 'protein...\n",
       "0      [{'type': '.CalorieConversionFactor', 'protein...\n",
       "0      [{'type': '.CalorieConversionFactor', 'protein...\n",
       "0      [{'type': '.CalorieConversionFactor', 'protein...\n",
       "                             ...                        \n",
       "315    [{'type': '.CalorieConversionFactor', 'protein...\n",
       "315    [{'type': '.CalorieConversionFactor', 'protein...\n",
       "315    [{'type': '.CalorieConversionFactor', 'protein...\n",
       "315    [{'type': '.CalorieConversionFactor', 'protein...\n",
       "315    [{'type': '.CalorieConversionFactor', 'protein...\n",
       "Name: nutrientConversionFactors, Length: 14111, dtype: object"
      ]
     },
     "execution_count": 29,
     "metadata": {},
     "output_type": "execute_result"
    }
   ],
   "source": [
    "import numpy as np\n",
    "import matplotlib.pyplot as plt\n",
    "import pandas as pd\n",
    "import matplotlib.animation as animation\n",
    "import sys\n",
    "\n",
    "# I was going to download all the food data information offered on the \n",
    "# website but instead will just start with one until everything works\n",
    "\n",
    "foundation_food = pd.read_json('foundationfoods.json')\n",
    "\n",
    "ffnormalized = pd.json_normalize(foundation_food['FoundationFoods'])\n",
    "\n",
    "#ffnormalized.head() #there are dictionaries within the columns so need to figure out a way to extract those\n",
    "\n"
   ]
  },
  {
   "cell_type": "markdown",
   "id": "185563db-121a-48a0-ae53-f72422d0564c",
   "metadata": {},
   "source": [
    "### Part 2: Design our Interactive Aspects\n",
    "\n",
    "This part of our project we aim to sort out how we would like for user input to work"
   ]
  },
  {
   "cell_type": "markdown",
   "id": "81f80be1-01bd-43bb-8ac1-0e2d06af53e5",
   "metadata": {},
   "source": [
    "### Part 3: Nutritional Analysis\n",
    "\n",
    "This part of our project we aim to do the necessary work that will allow for user input to be translated into nutritional details."
   ]
  },
  {
   "cell_type": "markdown",
   "id": "90da9bf1-0ef2-45b9-98c7-bfc841708bf9",
   "metadata": {},
   "source": [
    "### Part 4: Visualization\n",
    "\n",
    "This part of our project we aim to neatly display the results of Parts 1 and 2 to our users. "
   ]
  },
  {
   "cell_type": "markdown",
   "id": "0404498b-e3c6-4e8a-8f3b-0b743cf6db6f",
   "metadata": {},
   "source": [
    "### Part 5: Healthy Plate Builder in Action\n",
    "\n",
    "This part of our project is where we'd like for our users to be able to use our interactive plate builder . "
   ]
  }
 ],
 "metadata": {
  "kernelspec": {
   "display_name": "Python 3 (ipykernel)",
   "language": "python",
   "name": "python3"
  },
  "language_info": {
   "codemirror_mode": {
    "name": "ipython",
    "version": 3
   },
   "file_extension": ".py",
   "mimetype": "text/x-python",
   "name": "python",
   "nbconvert_exporter": "python",
   "pygments_lexer": "ipython3",
   "version": "3.12.8"
  }
 },
 "nbformat": 4,
 "nbformat_minor": 5
}
